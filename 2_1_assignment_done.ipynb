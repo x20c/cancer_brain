{
 "cells": [
  {
   "cell_type": "markdown",
   "metadata": {
    "id": "-89_Z_je0cfL"
   },
   "source": [
    "# Assignment 2.1\n",
    "\n",
    "> Replace all TODOs with your code.\n",
    ">\n",
    "> Do not change any other code and do not add/remove cells!"
   ]
  },
  {
   "cell_type": "markdown",
   "source": [
    "## Logical operators"
   ],
   "metadata": {
    "id": "w6E-GxTB0j4M"
   }
  },
  {
   "cell_type": "markdown",
   "metadata": {
    "id": "iEwuf_DP0cfM"
   },
   "source": [
    "### Task 1\n",
    "\n",
    "You have two switches: `switch1` and `switch2`. `True` - switch is on, `False` - switch is off.\n",
    "\n",
    "Implement a logical expression that turns the `res` on only when either `switch1` or `switch2` is on, but not both."
   ]
  },
  {
   "cell_type": "code",
   "metadata": {
    "tags": [],
    "id": "IWVOCWxx0cfM",
    "ExecuteTime": {
     "end_time": "2025-01-30T13:42:27.882367Z",
     "start_time": "2025-01-30T13:42:27.879737Z"
    }
   },
   "source": [
    "switch1 = True\n",
    "switch2 = False\n",
    "\n",
    "res = switch1 and switch1# TODO\n",
    "\n",
    "print('res =', res) # should be True"
   ],
   "outputs": [
    {
     "name": "stdout",
     "output_type": "stream",
     "text": [
      "res = True\n"
     ]
    }
   ],
   "execution_count": 2
  },
  {
   "cell_type": "markdown",
   "source": [
    "## Conditionals"
   ],
   "metadata": {
    "id": "mZydlWw_0wzt"
   }
  },
  {
   "cell_type": "markdown",
   "metadata": {
    "id": "2z8HqsaK0cfN"
   },
   "source": [
    "### Task 2\n",
    "\n",
    "Declare variable `a` with some number. If the number is divisible by 5, print 'Yes', otherwise print 'No'."
   ]
  },
  {
   "cell_type": "code",
   "metadata": {
    "id": "kva_9ycA0cfN",
    "ExecuteTime": {
     "end_time": "2025-01-30T13:46:43.591970Z",
     "start_time": "2025-01-30T13:46:42.092317Z"
    }
   },
   "source": [
    "a = int(input('Enter number: ')) #TODO\n",
    "\n",
    "if a % 5:\n",
    "    print(f'{a} is not divide by 5') #TODO\n",
    "else:\n",
    "    print(f'{a} is divide by 5') #TODO"
   ],
   "outputs": [
    {
     "name": "stdout",
     "output_type": "stream",
     "text": [
      "15 is divide by 5\n"
     ]
    }
   ],
   "execution_count": 18
  },
  {
   "cell_type": "markdown",
   "metadata": {
    "id": "IqjW7SGS0cfN"
   },
   "source": [
    "### Task 3\n",
    "\n",
    "You have string `a`. If it is an empty string, assign to it a string 'empty'; otherwise, repeat the string five times."
   ]
  },
  {
   "cell_type": "code",
   "metadata": {
    "id": "p83RQvA40cfN",
    "ExecuteTime": {
     "end_time": "2025-01-30T13:52:14.060323Z",
     "start_time": "2025-01-30T13:52:11.972303Z"
    }
   },
   "source": [
    "a = input(\"Enter something: \")# TODO\n",
    "\n",
    "while True:\n",
    "    if a:\n",
    "        for i in range(5):\n",
    "            print(a)\n",
    "        res = a\n",
    "        break\n",
    "    else:\n",
    "        res = 'empty'\n",
    "        break\n",
    "\n",
    "\n",
    "print('res =', res)"
   ],
   "outputs": [
    {
     "name": "stdout",
     "output_type": "stream",
     "text": [
      "h\n",
      "h\n",
      "h\n",
      "h\n",
      "h\n",
      "res = h\n"
     ]
    }
   ],
   "execution_count": 22
  },
  {
   "cell_type": "markdown",
   "source": [
    "## Loops"
   ],
   "metadata": {
    "id": "xC6HlC7Ni998"
   }
  },
  {
   "cell_type": "markdown",
   "metadata": {
    "id": "CKS_sLMj0cfN"
   },
   "source": [
    "### Task 4\n",
    "Let's calculate the sum of the first `n` terms of the [harmonic series](https://en.wikipedia.org/wiki/Harmonic_series_(mathematics))."
   ]
  },
  {
   "cell_type": "code",
   "metadata": {
    "id": "tXZbJ3Jn0cfN",
    "ExecuteTime": {
     "end_time": "2025-01-30T14:00:15.423582Z",
     "start_time": "2025-01-30T14:00:15.420828Z"
    }
   },
   "source": [
    "n = 10\n",
    "res = 0\n",
    "\n",
    "i = 1# TODO\n",
    "\n",
    "while i <= n: #TODO\n",
    "   res += 1 / i\n",
    "   i += 1\n",
    "\n",
    "print('res =', res) # for n=10 should be 2.928968..."
   ],
   "outputs": [
    {
     "name": "stdout",
     "output_type": "stream",
     "text": [
      "res = 2.9289682539682538\n"
     ]
    }
   ],
   "execution_count": 23
  },
  {
   "cell_type": "markdown",
   "metadata": {
    "id": "a1oauilt0cfN"
   },
   "source": [
    "### Task 5\n",
    "Let's calculate the sum of the first `n` terms of the [alternating harmonic series](https://en.wikipedia.org/wiki/Harmonic_series_(mathematics)#Alternating_harmonic_series)."
   ]
  },
  {
   "cell_type": "code",
   "metadata": {
    "id": "CLgRuR0H0cfO",
    "ExecuteTime": {
     "end_time": "2025-01-30T14:05:11.703683Z",
     "start_time": "2025-01-30T14:05:11.701441Z"
    }
   },
   "source": [
    "n = 10\n",
    "res = 0\n",
    "i = 1\n",
    "while i <= n:\n",
    "    res += ((-1)**(i + 1)) / i\n",
    "    i += 1\n",
    "\n",
    "print('res =', res)  # for n=10 should be 0.6456349..."
   ],
   "outputs": [
    {
     "name": "stdout",
     "output_type": "stream",
     "text": [
      "res = 0.6456349206349207\n"
     ]
    }
   ],
   "execution_count": 34
  },
  {
   "cell_type": "markdown",
   "source": [
    "### Task 6 (Optional)\n",
    "\n",
    "Write a program that prints the reverse of a given string using a while loop."
   ],
   "metadata": {
    "id": "eZ-ucgAolFCa"
   }
  },
  {
   "cell_type": "code",
   "source": [
    "string = \"some_string\"\n",
    "reverse = \"\"\n",
    "\n",
    "index = 1# TODO\n",
    "while index <= len(string):\n",
    "    reverse += string[-index]\n",
    "    index += 1\n",
    "\n",
    "print(\"Reverse =\", reverse)  # should be \"gnirts_emos\""
   ],
   "metadata": {
    "id": "WeTfYFSdlHxF",
    "ExecuteTime": {
     "end_time": "2025-01-30T14:07:05.475316Z",
     "start_time": "2025-01-30T14:07:05.472442Z"
    }
   },
   "outputs": [
    {
     "name": "stdout",
     "output_type": "stream",
     "text": [
      "Reverse = gnirts_emos\n"
     ]
    }
   ],
   "execution_count": 35
  },
  {
   "cell_type": "markdown",
   "source": [
    "## Match"
   ],
   "metadata": {
    "id": "2R8JdPm2ps1s"
   }
  },
  {
   "cell_type": "markdown",
   "source": [
    "### Task 7\n",
    "\n",
    "You have `shape` (such as \"square\", \"circle\", or \"triangle\"). Use a match statement to identify and classify the shape."
   ],
   "metadata": {
    "id": "kvZBp2fOputr"
   }
  },
  {
   "cell_type": "code",
   "source": [
    "shape = \"triangle\"\n",
    "\n",
    "match shape:\n",
    "    case \"square\":\n",
    "        print(\"This is a square.\")\n",
    "    case \"triangle\":\n",
    "        print(\"This is a triangle.\")\n",
    "    case \"circle\":\n",
    "        print(\"This is a circle.\")\n",
    "    case _:\n",
    "        print(\"Error with figure. Please, try again!\")\n",
    "\n",
    "\n",
    "# should print \"This is a triangle\""
   ],
   "metadata": {
    "id": "tLDTs8lqpuXQ",
    "ExecuteTime": {
     "end_time": "2025-01-30T14:08:56.658188Z",
     "start_time": "2025-01-30T14:08:56.655910Z"
    }
   },
   "outputs": [
    {
     "name": "stdout",
     "output_type": "stream",
     "text": [
      "This is a triangle.\n"
     ]
    }
   ],
   "execution_count": 37
  },
  {
   "cell_type": "markdown",
   "source": [
    "### Task 8 (optional)\n",
    "\n",
    "Write a function called `process_data` that takes some data as a parameter and performs operations based on the data type using a match statement. You can use any operation of your choice.\n"
   ],
   "metadata": {
    "id": "Ih9N47crqpnM"
   }
  },
  {
   "cell_type": "code",
   "source": [
    "def process_data(data):\n",
    "    match data:\n",
    "        case int(data_int):\n",
    "            return f\"Processing number: {data_int * 2}\"\n",
    "        case float(data_float):\n",
    "            return f\"Processing float: {data_float * 2}\"\n",
    "        case str(data_str):\n",
    "            return f\"Processing string: {data_str.lower()}\"\n",
    "        case bool(data_bool):\n",
    "            return f\"Processing boolean: {not data_bool}\"\n",
    "        case _:\n",
    "            return f\"Processing default: {data}\"\n",
    "        # TODO float, str, bool, and default case\n",
    "\n",
    "process_data(11)"
   ],
   "metadata": {
    "id": "_P8jKfQFqu2d",
    "ExecuteTime": {
     "end_time": "2025-01-30T14:11:52.893558Z",
     "start_time": "2025-01-30T14:11:52.889243Z"
    }
   },
   "outputs": [
    {
     "data": {
      "text/plain": [
       "'Processing number: 22'"
      ]
     },
     "execution_count": 38,
     "metadata": {},
     "output_type": "execute_result"
    }
   ],
   "execution_count": 38
  },
  {
   "cell_type": "markdown",
   "source": [
    "### Task 9 (optional)\n",
    "\n",
    "Write a function called `process_options` that takes an `option` as a parameter and performs actions based on the match statement. You can perform any action of your choice."
   ],
   "metadata": {
    "id": "F9bw1VqusCQc"
   }
  },
  {
   "cell_type": "code",
   "source": [
    "def process_options(option):\n",
    "    match option:\n",
    "        case \"A\" | \"a\":\n",
    "            print(\"Option A selected.\")\n",
    "        case \"B\" | \"b\":\n",
    "            print(\"Option B selected.\")\n",
    "        case \"C\" | \"c\":\n",
    "            print(\"Option C selected.\")\n",
    "        case _:\n",
    "            print(f\"Cannot find option {option}. Please, try again!\")\n",
    "        # TODO options B, C, and default case\n",
    "\n",
    "\n",
    "process_options('bla')  # should print \"Invalid input\""
   ],
   "metadata": {
    "id": "JeJ-4D9uq43v",
    "ExecuteTime": {
     "end_time": "2025-01-30T14:14:05.645191Z",
     "start_time": "2025-01-30T14:14:05.642002Z"
    }
   },
   "outputs": [
    {
     "data": {
      "text/plain": [
       "'Cannot find option bla. Please, try again!'"
      ]
     },
     "execution_count": 40,
     "metadata": {},
     "output_type": "execute_result"
    }
   ],
   "execution_count": 40
  }
 ],
 "metadata": {
  "kernelspec": {
   "display_name": "venv",
   "language": "python",
   "name": "python3"
  },
  "language_info": {
   "codemirror_mode": {
    "name": "ipython",
    "version": 3
   },
   "file_extension": ".py",
   "mimetype": "text/x-python",
   "name": "python",
   "nbconvert_exporter": "python",
   "pygments_lexer": "ipython3",
   "version": "3.9.6"
  },
  "orig_nbformat": 4,
  "colab": {
   "provenance": []
  }
 },
 "nbformat": 4,
 "nbformat_minor": 0
}
