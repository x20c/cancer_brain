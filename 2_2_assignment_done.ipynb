{
 "cells": [
  {
   "cell_type": "markdown",
   "metadata": {
    "id": "-89_Z_je0cfL"
   },
   "source": [
    "# Assignment 2.2\n",
    "\n",
    "> Replace all TODOs with your code.\n",
    ">\n",
    "> Do not change any other code and do not add/remove cells!"
   ]
  },
  {
   "cell_type": "markdown",
   "source": [
    "## For-loop"
   ],
   "metadata": {
    "id": "w6E-GxTB0j4M"
   }
  },
  {
   "cell_type": "markdown",
   "metadata": {
    "id": "iEwuf_DP0cfM"
   },
   "source": [
    "### Task 1\n",
    "\n",
    "Write a program that prints the numbers from `a` to `b` using for loop."
   ]
  },
  {
   "cell_type": "code",
   "metadata": {
    "tags": [],
    "id": "IWVOCWxx0cfM",
    "ExecuteTime": {
     "end_time": "2025-01-31T12:56:15.784286Z",
     "start_time": "2025-01-31T12:56:15.781850Z"
    }
   },
   "source": [
    "a = 1\n",
    "b = 5\n",
    "#Variant 1\n",
    "for i in range(a,b+1):\n",
    "    print(i) # TODO\n",
    "#Variant 2\n",
    "for i in range(a,b+1):\n",
    "    print(i, end=' ')\n",
    "# should print 1 2 3 4 5"
   ],
   "outputs": [
    {
     "name": "stdout",
     "output_type": "stream",
     "text": [
      "1\n",
      "2\n",
      "3\n",
      "4\n",
      "5\n",
      "1 2 3 4 5 "
     ]
    }
   ],
   "execution_count": 3
  },
  {
   "cell_type": "markdown",
   "source": [
    "## Functions"
   ],
   "metadata": {
    "id": "mZydlWw_0wzt"
   }
  },
  {
   "cell_type": "markdown",
   "metadata": {
    "id": "2z8HqsaK0cfN"
   },
   "source": [
    "### Task 2\n",
    "\n",
    "Create a function called `is_prime` that takes a number as a parameter, returns `True` if the number is prime, and `False` otherwise."
   ]
  },
  {
   "cell_type": "code",
   "metadata": {
    "id": "kva_9ycA0cfN",
    "ExecuteTime": {
     "end_time": "2025-01-31T13:02:10.758547Z",
     "start_time": "2025-01-31T13:02:10.755272Z"
    }
   },
   "source": [
    "def is_prime(num):\n",
    "    if num < 2:\n",
    "        return False\n",
    "    for i in range(2, int(num ** 0.5) + 1):\n",
    "        if num % i == 0:\n",
    "            return False\n",
    "    return True\n",
    "\n",
    "\n",
    "print('Is 11 a prime?', is_prime(11))  # should be True\n",
    "print('Is 9 a prime?', is_prime(9))  # should be False"
   ],
   "outputs": [
    {
     "name": "stdout",
     "output_type": "stream",
     "text": [
      "Is 11 a prime? True\n",
      "Is 9 a prime? False\n"
     ]
    }
   ],
   "execution_count": 4
  },
  {
   "cell_type": "markdown",
   "metadata": {
    "id": "IqjW7SGS0cfN"
   },
   "source": [
    "### Task 3\n",
    "\n",
    "Write a function called `find_primes` that takes two integers, `a` and `b`, and prints all the prime numbers between `a` and `b` (inclusive).\n",
    "\n",
    "You can use the function from the previous exercise."
   ]
  },
  {
   "cell_type": "code",
   "metadata": {
    "id": "p83RQvA40cfN",
    "ExecuteTime": {
     "end_time": "2025-01-31T13:13:53.985269Z",
     "start_time": "2025-01-31T13:13:53.982635Z"
    }
   },
   "source": [
    "def find_primes(a, b):\n",
    "    for num in range(a, b + 1):\n",
    "        if is_prime(num):\n",
    "            print(num)\n",
    "\n",
    "\n",
    "find_primes(1, 11)  # should print 2 3 5 7 11"
   ],
   "outputs": [
    {
     "name": "stdout",
     "output_type": "stream",
     "text": [
      "2\n",
      "3\n",
      "5\n",
      "7\n",
      "11\n"
     ]
    }
   ],
   "execution_count": 8
  },
  {
   "cell_type": "markdown",
   "source": [
    "### Task 4\n",
    "\n",
    "Write a function called `reverse_words` that takes a sentence as a parameter and prints the sentence with each word reversed, but the words are in the same order."
   ],
   "metadata": {
    "id": "fceBNTpUnip6"
   }
  },
  {
   "cell_type": "code",
   "source": [
    "def reverse_words(words):\n",
    "    rev_words = ' '.join(word[::-1] for word in words.split())\n",
    "    print(rev_words)\n",
    "\n",
    "reverse_words(\"Quick brown fox jumps over a lazy dog\")  # should print \"kciuQ nworb xof spmuj revo a yzal god\""
   ],
   "metadata": {
    "id": "VsoALrbBnsjs",
    "ExecuteTime": {
     "end_time": "2025-01-31T13:23:00.182768Z",
     "start_time": "2025-01-31T13:23:00.180392Z"
    }
   },
   "outputs": [
    {
     "name": "stdout",
     "output_type": "stream",
     "text": [
      "kciuQ nworb xof spmuj revo a yzal god\n"
     ]
    }
   ],
   "execution_count": 12
  }
 ],
 "metadata": {
  "kernelspec": {
   "display_name": "venv",
   "language": "python",
   "name": "python3"
  },
  "language_info": {
   "codemirror_mode": {
    "name": "ipython",
    "version": 3
   },
   "file_extension": ".py",
   "mimetype": "text/x-python",
   "name": "python",
   "nbconvert_exporter": "python",
   "pygments_lexer": "ipython3",
   "version": "3.9.6"
  },
  "orig_nbformat": 4,
  "colab": {
   "provenance": [
    {
     "file_id": "1Lyh1UghlOoTD4rREDX3OCyeAFdHEv8X1",
     "timestamp": 1699961320572
    }
   ]
  }
 },
 "nbformat": 4,
 "nbformat_minor": 0
}
