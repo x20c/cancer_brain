{
 "cells": [
  {
   "cell_type": "markdown",
   "metadata": {
    "id": "-89_Z_je0cfL"
   },
   "source": [
    "# Assignment 3.1\n",
    "\n",
    "> Replace all TODOs with your code.\n",
    ">\n",
    "> Do not change any other code and do not add/remove cells!"
   ]
  },
  {
   "cell_type": "markdown",
   "metadata": {
    "id": "w6E-GxTB0j4M"
   },
   "source": [
    "## Scope"
   ]
  },
  {
   "cell_type": "markdown",
   "metadata": {
    "id": "iEwuf_DP0cfM"
   },
   "source": [
    "### Task 1\n",
    "\n",
    "Make the program run without an error. You can only change the `calculate` function."
   ]
  },
  {
   "cell_type": "code",
   "execution_count": null,
   "metadata": {
    "id": "IWVOCWxx0cfM",
    "tags": [
     "task_1"
    ]
   },
   "outputs": [],
   "source": [
    "call_counter = 0\n",
    "\n",
    "\n",
    "def calculate(a, b):\n",
    "    # TODO\n",
    "    call_counter += 1\n",
    "    return a ** (b / 2)\n",
    "\n",
    "\n",
    "for _ in range(5):\n",
    "    calculate(5, 5)\n",
    "\n",
    "print(f'calculate called {call_counter} times') # should print \"calculate called 5 times\""
   ]
  },
  {
   "cell_type": "markdown",
   "metadata": {
    "id": "mZydlWw_0wzt"
   },
   "source": [
    "## Errors"
   ]
  },
  {
   "cell_type": "markdown",
   "metadata": {
    "id": "2z8HqsaK0cfN"
   },
   "source": [
    "### Task 2\n",
    "\n",
    "Your task is to come up with an example for each error type. Replace all TODOs with a single-line expression that when evaluated will raise the specified error."
   ]
  },
  {
   "cell_type": "code",
   "execution_count": null,
   "metadata": {
    "id": "kva_9ycA0cfN",
    "tags": [
     "task_2"
    ]
   },
   "outputs": [],
   "source": [
    "# a\n",
    "\n",
    "# TODO\n",
    "\n",
    "# should raise SyntaxError"
   ]
  },
  {
   "cell_type": "code",
   "source": [
    "# b\n",
    "\n",
    "# TODO\n",
    "\n",
    "# should raise ValueError"
   ],
   "metadata": {
    "id": "r1NGsqySe9P0"
   },
   "execution_count": null,
   "outputs": []
  },
  {
   "cell_type": "code",
   "source": [
    "# c\n",
    "\n",
    "# TODO\n",
    "\n",
    "# should raise NameError"
   ],
   "metadata": {
    "id": "7HRYRoijfm6y"
   },
   "execution_count": null,
   "outputs": []
  },
  {
   "cell_type": "markdown",
   "source": [
    "## Tuples"
   ],
   "metadata": {
    "id": "atoe2n_8fxjR"
   }
  },
  {
   "cell_type": "markdown",
   "metadata": {
    "id": "IqjW7SGS0cfN"
   },
   "source": [
    "### Task 3\n",
    "\n",
    "Given a tuple `a1` create tuple `b1` which has all the elements of `a1` in reverse order."
   ]
  },
  {
   "cell_type": "code",
   "execution_count": null,
   "metadata": {
    "id": "p83RQvA40cfN",
    "tags": [
     "task_3"
    ]
   },
   "outputs": [],
   "source": [
    "a1 = (1, 2, 3, 4, 5)\n",
    "\n",
    "b1 = (5, 4, 3, 2, 1)\n",
    "\n",
    "print(b1)  # should print (5, 4, 3, 2, 1)"
   ]
  },
  {
   "cell_type": "markdown",
   "source": [
    "### Task 4\n",
    "\n",
    "Write a function that will remove an element from tuple by index. It should create a new tuple."
   ],
   "metadata": {
    "id": "Q6MrylS6iUUX"
   }
  },
  {
   "cell_type": "code",
   "source": [
    "def pop_element(v1: tuple, i: int) -> tuple:\n",
    "    # TODO\n",
    "    pass\n",
    "\n",
    "print(pop_element((1,2,3), 1)) # should print (1, 3)"
   ],
   "metadata": {
    "id": "lsprATzgigYc"
   },
   "execution_count": null,
   "outputs": []
  },
  {
   "cell_type": "markdown",
   "metadata": {
    "id": "fceBNTpUnip6"
   },
   "source": [
    "### Task 5\n",
    "\n",
    "Implement a function that will add vectors elemnt-wise in the same-dimentional space. If the dimensions of vectors do not match, raise ValueError with the appropriate message."
   ]
  },
  {
   "cell_type": "code",
   "execution_count": null,
   "metadata": {
    "id": "VsoALrbBnsjs",
    "tags": [
     "task_4"
    ]
   },
   "outputs": [],
   "source": [
    "def add(v1: tuple, v2: tuple) -> tuple:\n",
    "    # TODO\n",
    "    pass\n",
    "\n",
    "print(add((1,2,3), (4,5,6))) # should print (5, 7, 9)\n",
    "print(add((1,2,3), (4,5,6,7))) # should raise error"
   ]
  },
  {
   "cell_type": "markdown",
   "source": [
    "### Task 6\n",
    "\n",
    "Implement a [dot product](https://en.wikipedia.org/wiki/Dot_product) of two vectors."
   ],
   "metadata": {
    "id": "K_QMm92QhkTJ"
   }
  },
  {
   "cell_type": "code",
   "source": [
    "def dot(v1: tuple, v2: tuple) -> int:\n",
    "    # TODO\n",
    "    pass\n",
    "\n",
    "print(dot((1,2,3), (4,5,6))) # should print 32\n",
    "print(dot((1,2,3), (4,5,6,7))) # should raise error"
   ],
   "metadata": {
    "id": "6iY5pBDFhh_Y"
   },
   "execution_count": null,
   "outputs": []
  }
 ],
 "metadata": {
  "colab": {
   "provenance": [
    {
     "file_id": "1237N3C4eJGL7ad5zcHR25e4zGnVS5-Wx",
     "timestamp": 1699962080713
    },
    {
     "file_id": "1Lyh1UghlOoTD4rREDX3OCyeAFdHEv8X1",
     "timestamp": 1699961320572
    }
   ]
  },
  "kernelspec": {
   "display_name": "venv",
   "language": "python",
   "name": "python3"
  },
  "language_info": {
   "codemirror_mode": {
    "name": "ipython",
    "version": 3
   },
   "file_extension": ".py",
   "mimetype": "text/x-python",
   "name": "python",
   "nbconvert_exporter": "python",
   "pygments_lexer": "ipython3",
   "version": "3.9.6"
  },
  "orig_nbformat": 4
 },
 "nbformat": 4,
 "nbformat_minor": 0
}
